{
  "nbformat": 4,
  "nbformat_minor": 0,
  "metadata": {
    "colab": {
      "name": "MobAll_Final.ipynb",
      "provenance": [],
      "collapsed_sections": []
    },
    "kernelspec": {
      "name": "python3",
      "display_name": "Python 3"
    },
    "language_info": {
      "name": "python"
    }
  },
  "cells": [
    {
      "cell_type": "code",
      "execution_count": 1,
      "metadata": {
        "id": "2d6IHjlH4YNc"
      },
      "outputs": [],
      "source": [
        "import pandas as pd\n",
        "import numpy as np\n",
        "import matplotlib.pyplot as plt"
      ]
    },
    {
      "cell_type": "code",
      "source": [
        "df_3_14 = pd.read_csv(\"3-14.csv\", header = None, names=['name', 'number', 'signal', 'timestamp'])"
      ],
      "metadata": {
        "id": "21XT4555FBib"
      },
      "execution_count": 18,
      "outputs": []
    },
    {
      "cell_type": "code",
      "source": [
        "mapping = {}\n",
        "count = 0\n",
        "for idx, row in df_3_14.iterrows():\n",
        "  if row['number'] in mapping:\n",
        "    row['number'] = mapping[row['number']]\n",
        "  else:\n",
        "    mapping[row['number']] = \"Device \" + str(count)\n",
        "    row['number'] = mapping[row['number']]\n",
        "    count += 1\n",
        "  df_3_14['number'][idx] = row['number'] \n",
        "df_3_14"
      ],
      "metadata": {
        "colab": {
          "base_uri": "https://localhost:8080/",
          "height": 533
        },
        "id": "q8hOEJMeFCPN",
        "outputId": "68c12e8d-8d68-4acd-813d-fb4e42d295fd"
      },
      "execution_count": 19,
      "outputs": [
        {
          "output_type": "stream",
          "name": "stderr",
          "text": [
            "/usr/local/lib/python3.7/dist-packages/ipykernel_launcher.py:10: SettingWithCopyWarning: \n",
            "A value is trying to be set on a copy of a slice from a DataFrame\n",
            "\n",
            "See the caveats in the documentation: https://pandas.pydata.org/pandas-docs/stable/user_guide/indexing.html#returning-a-view-versus-a-copy\n",
            "  # Remove the CWD from sys.path while we load stuff.\n"
          ]
        },
        {
          "output_type": "execute_result",
          "data": {
            "text/plain": [
              "                 name      number  signal                     timestamp\n",
              "0     VV6-US-NKA2103A    Device 0     -86       2022-03-07T15:23:54.757\n",
              "1                 NaN    Device 1     -84       2022-03-07T15:23:54.759\n",
              "2                 NaN    Device 2     -77       2022-03-07T15:23:54.761\n",
              "3     Donald H. Trump    Device 3     -71       2022-03-07T15:23:54.864\n",
              "4                 NaN    Device 4     -86       2022-03-07T15:23:55.196\n",
              "...               ...         ...     ...                           ...\n",
              "3680              NaN  Device 771     -71  Mon Mar 14 11:28:52 CDT 2022\n",
              "3681              NaN  Device 370     -85  Mon Mar 14 11:28:52 CDT 2022\n",
              "3682              NaN  Device 885     -75  Mon Mar 14 11:28:52 CDT 2022\n",
              "3683              NaN  Device 886     -88  Mon Mar 14 11:28:52 CDT 2022\n",
              "3684              NaN  Device 717     -74  Mon Mar 14 11:28:53 CDT 2022\n",
              "\n",
              "[3685 rows x 4 columns]"
            ],
            "text/html": [
              "\n",
              "  <div id=\"df-f565c73e-937c-48df-9e15-1e93bd4a3fe2\">\n",
              "    <div class=\"colab-df-container\">\n",
              "      <div>\n",
              "<style scoped>\n",
              "    .dataframe tbody tr th:only-of-type {\n",
              "        vertical-align: middle;\n",
              "    }\n",
              "\n",
              "    .dataframe tbody tr th {\n",
              "        vertical-align: top;\n",
              "    }\n",
              "\n",
              "    .dataframe thead th {\n",
              "        text-align: right;\n",
              "    }\n",
              "</style>\n",
              "<table border=\"1\" class=\"dataframe\">\n",
              "  <thead>\n",
              "    <tr style=\"text-align: right;\">\n",
              "      <th></th>\n",
              "      <th>name</th>\n",
              "      <th>number</th>\n",
              "      <th>signal</th>\n",
              "      <th>timestamp</th>\n",
              "    </tr>\n",
              "  </thead>\n",
              "  <tbody>\n",
              "    <tr>\n",
              "      <th>0</th>\n",
              "      <td>VV6-US-NKA2103A</td>\n",
              "      <td>Device 0</td>\n",
              "      <td>-86</td>\n",
              "      <td>2022-03-07T15:23:54.757</td>\n",
              "    </tr>\n",
              "    <tr>\n",
              "      <th>1</th>\n",
              "      <td>NaN</td>\n",
              "      <td>Device 1</td>\n",
              "      <td>-84</td>\n",
              "      <td>2022-03-07T15:23:54.759</td>\n",
              "    </tr>\n",
              "    <tr>\n",
              "      <th>2</th>\n",
              "      <td>NaN</td>\n",
              "      <td>Device 2</td>\n",
              "      <td>-77</td>\n",
              "      <td>2022-03-07T15:23:54.761</td>\n",
              "    </tr>\n",
              "    <tr>\n",
              "      <th>3</th>\n",
              "      <td>Donald H. Trump</td>\n",
              "      <td>Device 3</td>\n",
              "      <td>-71</td>\n",
              "      <td>2022-03-07T15:23:54.864</td>\n",
              "    </tr>\n",
              "    <tr>\n",
              "      <th>4</th>\n",
              "      <td>NaN</td>\n",
              "      <td>Device 4</td>\n",
              "      <td>-86</td>\n",
              "      <td>2022-03-07T15:23:55.196</td>\n",
              "    </tr>\n",
              "    <tr>\n",
              "      <th>...</th>\n",
              "      <td>...</td>\n",
              "      <td>...</td>\n",
              "      <td>...</td>\n",
              "      <td>...</td>\n",
              "    </tr>\n",
              "    <tr>\n",
              "      <th>3680</th>\n",
              "      <td>NaN</td>\n",
              "      <td>Device 771</td>\n",
              "      <td>-71</td>\n",
              "      <td>Mon Mar 14 11:28:52 CDT 2022</td>\n",
              "    </tr>\n",
              "    <tr>\n",
              "      <th>3681</th>\n",
              "      <td>NaN</td>\n",
              "      <td>Device 370</td>\n",
              "      <td>-85</td>\n",
              "      <td>Mon Mar 14 11:28:52 CDT 2022</td>\n",
              "    </tr>\n",
              "    <tr>\n",
              "      <th>3682</th>\n",
              "      <td>NaN</td>\n",
              "      <td>Device 885</td>\n",
              "      <td>-75</td>\n",
              "      <td>Mon Mar 14 11:28:52 CDT 2022</td>\n",
              "    </tr>\n",
              "    <tr>\n",
              "      <th>3683</th>\n",
              "      <td>NaN</td>\n",
              "      <td>Device 886</td>\n",
              "      <td>-88</td>\n",
              "      <td>Mon Mar 14 11:28:52 CDT 2022</td>\n",
              "    </tr>\n",
              "    <tr>\n",
              "      <th>3684</th>\n",
              "      <td>NaN</td>\n",
              "      <td>Device 717</td>\n",
              "      <td>-74</td>\n",
              "      <td>Mon Mar 14 11:28:53 CDT 2022</td>\n",
              "    </tr>\n",
              "  </tbody>\n",
              "</table>\n",
              "<p>3685 rows × 4 columns</p>\n",
              "</div>\n",
              "      <button class=\"colab-df-convert\" onclick=\"convertToInteractive('df-f565c73e-937c-48df-9e15-1e93bd4a3fe2')\"\n",
              "              title=\"Convert this dataframe to an interactive table.\"\n",
              "              style=\"display:none;\">\n",
              "        \n",
              "  <svg xmlns=\"http://www.w3.org/2000/svg\" height=\"24px\"viewBox=\"0 0 24 24\"\n",
              "       width=\"24px\">\n",
              "    <path d=\"M0 0h24v24H0V0z\" fill=\"none\"/>\n",
              "    <path d=\"M18.56 5.44l.94 2.06.94-2.06 2.06-.94-2.06-.94-.94-2.06-.94 2.06-2.06.94zm-11 1L8.5 8.5l.94-2.06 2.06-.94-2.06-.94L8.5 2.5l-.94 2.06-2.06.94zm10 10l.94 2.06.94-2.06 2.06-.94-2.06-.94-.94-2.06-.94 2.06-2.06.94z\"/><path d=\"M17.41 7.96l-1.37-1.37c-.4-.4-.92-.59-1.43-.59-.52 0-1.04.2-1.43.59L10.3 9.45l-7.72 7.72c-.78.78-.78 2.05 0 2.83L4 21.41c.39.39.9.59 1.41.59.51 0 1.02-.2 1.41-.59l7.78-7.78 2.81-2.81c.8-.78.8-2.07 0-2.86zM5.41 20L4 18.59l7.72-7.72 1.47 1.35L5.41 20z\"/>\n",
              "  </svg>\n",
              "      </button>\n",
              "      \n",
              "  <style>\n",
              "    .colab-df-container {\n",
              "      display:flex;\n",
              "      flex-wrap:wrap;\n",
              "      gap: 12px;\n",
              "    }\n",
              "\n",
              "    .colab-df-convert {\n",
              "      background-color: #E8F0FE;\n",
              "      border: none;\n",
              "      border-radius: 50%;\n",
              "      cursor: pointer;\n",
              "      display: none;\n",
              "      fill: #1967D2;\n",
              "      height: 32px;\n",
              "      padding: 0 0 0 0;\n",
              "      width: 32px;\n",
              "    }\n",
              "\n",
              "    .colab-df-convert:hover {\n",
              "      background-color: #E2EBFA;\n",
              "      box-shadow: 0px 1px 2px rgba(60, 64, 67, 0.3), 0px 1px 3px 1px rgba(60, 64, 67, 0.15);\n",
              "      fill: #174EA6;\n",
              "    }\n",
              "\n",
              "    [theme=dark] .colab-df-convert {\n",
              "      background-color: #3B4455;\n",
              "      fill: #D2E3FC;\n",
              "    }\n",
              "\n",
              "    [theme=dark] .colab-df-convert:hover {\n",
              "      background-color: #434B5C;\n",
              "      box-shadow: 0px 1px 3px 1px rgba(0, 0, 0, 0.15);\n",
              "      filter: drop-shadow(0px 1px 2px rgba(0, 0, 0, 0.3));\n",
              "      fill: #FFFFFF;\n",
              "    }\n",
              "  </style>\n",
              "\n",
              "      <script>\n",
              "        const buttonEl =\n",
              "          document.querySelector('#df-f565c73e-937c-48df-9e15-1e93bd4a3fe2 button.colab-df-convert');\n",
              "        buttonEl.style.display =\n",
              "          google.colab.kernel.accessAllowed ? 'block' : 'none';\n",
              "\n",
              "        async function convertToInteractive(key) {\n",
              "          const element = document.querySelector('#df-f565c73e-937c-48df-9e15-1e93bd4a3fe2');\n",
              "          const dataTable =\n",
              "            await google.colab.kernel.invokeFunction('convertToInteractive',\n",
              "                                                     [key], {});\n",
              "          if (!dataTable) return;\n",
              "\n",
              "          const docLinkHtml = 'Like what you see? Visit the ' +\n",
              "            '<a target=\"_blank\" href=https://colab.research.google.com/notebooks/data_table.ipynb>data table notebook</a>'\n",
              "            + ' to learn more about interactive tables.';\n",
              "          element.innerHTML = '';\n",
              "          dataTable['output_type'] = 'display_data';\n",
              "          await google.colab.output.renderOutput(dataTable, element);\n",
              "          const docLink = document.createElement('div');\n",
              "          docLink.innerHTML = docLinkHtml;\n",
              "          element.appendChild(docLink);\n",
              "        }\n",
              "      </script>\n",
              "    </div>\n",
              "  </div>\n",
              "  "
            ]
          },
          "metadata": {},
          "execution_count": 19
        }
      ]
    },
    {
      "cell_type": "code",
      "source": [
        "start = np.where(df_3_14['timestamp'] == 'Sun Mar 13 11:36:03 CDT 2022')[0][0]\n",
        "end = np.where(df_3_14['timestamp'] == 'Sun Mar 13 12:21:41 CDT 2022')[0][0]\n",
        "df_control = df_3_14[start:end]"
      ],
      "metadata": {
        "id": "0B8sMxnH4omk"
      },
      "execution_count": 20,
      "outputs": []
    },
    {
      "cell_type": "code",
      "source": [
        "start = np.where(df_3_14['timestamp'] == 'Mon Mar 14 10:16:45 CDT 2022')[0][0]\n",
        "end = np.where(df_3_14['timestamp'] == 'Mon Mar 14 10:30:35 CDT 2022')[0][0]\n",
        "df_walking_monday = df_3_14[start:end]\n",
        "\n",
        "start = np.where(df_3_14['timestamp'] == 'Mon Mar 14 10:30:35 CDT 2022')[0][0]\n",
        "df_reg_monday = df_3_14[start:]"
      ],
      "metadata": {
        "id": "FRJ4zhf1Yx_u"
      },
      "execution_count": 5,
      "outputs": []
    },
    {
      "cell_type": "code",
      "source": [
        "def get_counts(df):\n",
        "  df_avg = df.groupby('number', as_index=False).mean()\n",
        "\n",
        "  conditions = [\n",
        "    (df_avg['signal'] >= -50),\n",
        "    (df_avg['signal'] < -50) & (df_avg['signal'] >= -70),\n",
        "    (df_avg['signal'] < -70) & (df_avg['signal'] >= -80),\n",
        "    (df_avg['signal'] < -80)\n",
        "  ]\n",
        "  values = ['strong', 'okay', 'weak', 'poor']\n",
        "\n",
        "  df_avg['signal_name'] = np.select(conditions, values)\n",
        "\n",
        "  print(df_avg['signal_name'].value_counts())"
      ],
      "metadata": {
        "id": "4UAoPCTbX7Rp"
      },
      "execution_count": 6,
      "outputs": []
    },
    {
      "cell_type": "code",
      "source": [
        "def get_strong_okay(df):\n",
        "  strong_okay = []\n",
        "  df_avg = df.groupby('number', as_index=False).mean()\n",
        "\n",
        "  for idx, row in df_avg.iterrows():\n",
        "    if row['signal'] >= -70:\n",
        "      strong_okay.append(row['number'])\n",
        "  return strong_okay"
      ],
      "metadata": {
        "id": "_Id579E6mEKl"
      },
      "execution_count": 7,
      "outputs": []
    },
    {
      "cell_type": "code",
      "source": [
        "get_counts(df_control)"
      ],
      "metadata": {
        "colab": {
          "base_uri": "https://localhost:8080/"
        },
        "id": "Wu_iMuSt8GnU",
        "outputId": "5f46cb0f-e706-4517-83ab-ad5096ef84f6"
      },
      "execution_count": 8,
      "outputs": [
        {
          "output_type": "stream",
          "name": "stdout",
          "text": [
            "poor      37\n",
            "okay       7\n",
            "weak       5\n",
            "strong     3\n",
            "Name: signal_name, dtype: int64\n"
          ]
        }
      ]
    },
    {
      "cell_type": "code",
      "source": [
        "get_counts(df_walking_monday)"
      ],
      "metadata": {
        "colab": {
          "base_uri": "https://localhost:8080/"
        },
        "id": "UJBaumcZYr4l",
        "outputId": "80cc0449-9886-4639-e657-2fffae56046d"
      },
      "execution_count": 9,
      "outputs": [
        {
          "output_type": "stream",
          "name": "stdout",
          "text": [
            "weak    57\n",
            "poor    47\n",
            "okay    15\n",
            "Name: signal_name, dtype: int64\n"
          ]
        }
      ]
    },
    {
      "cell_type": "code",
      "source": [
        "get_counts(df_reg_monday)"
      ],
      "metadata": {
        "colab": {
          "base_uri": "https://localhost:8080/"
        },
        "id": "KGEoHL0HY_Wb",
        "outputId": "2a5068a2-5038-4393-8878-0297cb283117"
      },
      "execution_count": 10,
      "outputs": [
        {
          "output_type": "stream",
          "name": "stdout",
          "text": [
            "weak    285\n",
            "okay    149\n",
            "poor    107\n",
            "Name: signal_name, dtype: int64\n"
          ]
        }
      ]
    },
    {
      "cell_type": "code",
      "source": [
        "from datetime import datetime\n",
        "def trim_timestamp(row_num):\n",
        "  s = df_control['timestamp'][row_num]\n",
        "  s = s.replace('Sun Mar 13 ', '')\n",
        "  s = s.replace(' CDT 2022', '')\n",
        "  s = '03/13/22 ' + s\n",
        "\n",
        "  date_time_obj = datetime.strptime(s, '%m/%d/%y %H:%M:%S')\n",
        "\n",
        "  return date_time_obj"
      ],
      "metadata": {
        "id": "nxrk_BFhiyx9"
      },
      "execution_count": 11,
      "outputs": []
    },
    {
      "cell_type": "code",
      "source": [
        "df_control = df_3_14[start:end]\n",
        "for idx, row in df_control.iterrows():\n",
        "  df_control['timestamp'][idx] = trim_timestamp(idx)"
      ],
      "metadata": {
        "id": "Uh1WaOmyhCYH"
      },
      "execution_count": null,
      "outputs": []
    },
    {
      "cell_type": "code",
      "source": [
        "dfs = {}\n",
        "strong_okay = get_strong_okay(df_control)\n",
        "for name in strong_okay:\n",
        "  df = df_control.loc[df_control['number'] == name]\n",
        "  dfs[name] = df"
      ],
      "metadata": {
        "id": "wGhUntYCugUe"
      },
      "execution_count": 22,
      "outputs": []
    },
    {
      "cell_type": "code",
      "source": [
        "df_control"
      ],
      "metadata": {
        "colab": {
          "base_uri": "https://localhost:8080/",
          "height": 423
        },
        "id": "YDbuUSz-OWas",
        "outputId": "1e608c51-bb73-4f25-89f5-060fd3ff17e3"
      },
      "execution_count": 23,
      "outputs": [
        {
          "output_type": "execute_result",
          "data": {
            "text/plain": [
              "     name      number  signal            timestamp\n",
              "2142  NaN  Device 106     -84  2022-03-13 11:36:03\n",
              "2143  NaN  Device 107     -86  2022-03-13 11:36:04\n",
              "2144  NaN  Device 108     -86  2022-03-13 11:36:04\n",
              "2145  NaN  Device 109     -83  2022-03-13 11:36:04\n",
              "2146  NaN  Device 110     -83  2022-03-13 11:36:04\n",
              "...   ...         ...     ...                  ...\n",
              "2297  NaN  Device 133     -89  2022-03-13 12:21:35\n",
              "2298  NaN  Device 141     -62  2022-03-13 12:21:36\n",
              "2299  NaN  Device 138     -45  2022-03-13 12:21:36\n",
              "2300  NaN  Device 156     -82  2022-03-13 12:21:40\n",
              "2301  NaN  Device 157     -81  2022-03-13 12:21:40\n",
              "\n",
              "[160 rows x 4 columns]"
            ],
            "text/html": [
              "\n",
              "  <div id=\"df-f4e19f17-a682-4813-b23e-872712490d23\">\n",
              "    <div class=\"colab-df-container\">\n",
              "      <div>\n",
              "<style scoped>\n",
              "    .dataframe tbody tr th:only-of-type {\n",
              "        vertical-align: middle;\n",
              "    }\n",
              "\n",
              "    .dataframe tbody tr th {\n",
              "        vertical-align: top;\n",
              "    }\n",
              "\n",
              "    .dataframe thead th {\n",
              "        text-align: right;\n",
              "    }\n",
              "</style>\n",
              "<table border=\"1\" class=\"dataframe\">\n",
              "  <thead>\n",
              "    <tr style=\"text-align: right;\">\n",
              "      <th></th>\n",
              "      <th>name</th>\n",
              "      <th>number</th>\n",
              "      <th>signal</th>\n",
              "      <th>timestamp</th>\n",
              "    </tr>\n",
              "  </thead>\n",
              "  <tbody>\n",
              "    <tr>\n",
              "      <th>2142</th>\n",
              "      <td>NaN</td>\n",
              "      <td>Device 106</td>\n",
              "      <td>-84</td>\n",
              "      <td>2022-03-13 11:36:03</td>\n",
              "    </tr>\n",
              "    <tr>\n",
              "      <th>2143</th>\n",
              "      <td>NaN</td>\n",
              "      <td>Device 107</td>\n",
              "      <td>-86</td>\n",
              "      <td>2022-03-13 11:36:04</td>\n",
              "    </tr>\n",
              "    <tr>\n",
              "      <th>2144</th>\n",
              "      <td>NaN</td>\n",
              "      <td>Device 108</td>\n",
              "      <td>-86</td>\n",
              "      <td>2022-03-13 11:36:04</td>\n",
              "    </tr>\n",
              "    <tr>\n",
              "      <th>2145</th>\n",
              "      <td>NaN</td>\n",
              "      <td>Device 109</td>\n",
              "      <td>-83</td>\n",
              "      <td>2022-03-13 11:36:04</td>\n",
              "    </tr>\n",
              "    <tr>\n",
              "      <th>2146</th>\n",
              "      <td>NaN</td>\n",
              "      <td>Device 110</td>\n",
              "      <td>-83</td>\n",
              "      <td>2022-03-13 11:36:04</td>\n",
              "    </tr>\n",
              "    <tr>\n",
              "      <th>...</th>\n",
              "      <td>...</td>\n",
              "      <td>...</td>\n",
              "      <td>...</td>\n",
              "      <td>...</td>\n",
              "    </tr>\n",
              "    <tr>\n",
              "      <th>2297</th>\n",
              "      <td>NaN</td>\n",
              "      <td>Device 133</td>\n",
              "      <td>-89</td>\n",
              "      <td>2022-03-13 12:21:35</td>\n",
              "    </tr>\n",
              "    <tr>\n",
              "      <th>2298</th>\n",
              "      <td>NaN</td>\n",
              "      <td>Device 141</td>\n",
              "      <td>-62</td>\n",
              "      <td>2022-03-13 12:21:36</td>\n",
              "    </tr>\n",
              "    <tr>\n",
              "      <th>2299</th>\n",
              "      <td>NaN</td>\n",
              "      <td>Device 138</td>\n",
              "      <td>-45</td>\n",
              "      <td>2022-03-13 12:21:36</td>\n",
              "    </tr>\n",
              "    <tr>\n",
              "      <th>2300</th>\n",
              "      <td>NaN</td>\n",
              "      <td>Device 156</td>\n",
              "      <td>-82</td>\n",
              "      <td>2022-03-13 12:21:40</td>\n",
              "    </tr>\n",
              "    <tr>\n",
              "      <th>2301</th>\n",
              "      <td>NaN</td>\n",
              "      <td>Device 157</td>\n",
              "      <td>-81</td>\n",
              "      <td>2022-03-13 12:21:40</td>\n",
              "    </tr>\n",
              "  </tbody>\n",
              "</table>\n",
              "<p>160 rows × 4 columns</p>\n",
              "</div>\n",
              "      <button class=\"colab-df-convert\" onclick=\"convertToInteractive('df-f4e19f17-a682-4813-b23e-872712490d23')\"\n",
              "              title=\"Convert this dataframe to an interactive table.\"\n",
              "              style=\"display:none;\">\n",
              "        \n",
              "  <svg xmlns=\"http://www.w3.org/2000/svg\" height=\"24px\"viewBox=\"0 0 24 24\"\n",
              "       width=\"24px\">\n",
              "    <path d=\"M0 0h24v24H0V0z\" fill=\"none\"/>\n",
              "    <path d=\"M18.56 5.44l.94 2.06.94-2.06 2.06-.94-2.06-.94-.94-2.06-.94 2.06-2.06.94zm-11 1L8.5 8.5l.94-2.06 2.06-.94-2.06-.94L8.5 2.5l-.94 2.06-2.06.94zm10 10l.94 2.06.94-2.06 2.06-.94-2.06-.94-.94-2.06-.94 2.06-2.06.94z\"/><path d=\"M17.41 7.96l-1.37-1.37c-.4-.4-.92-.59-1.43-.59-.52 0-1.04.2-1.43.59L10.3 9.45l-7.72 7.72c-.78.78-.78 2.05 0 2.83L4 21.41c.39.39.9.59 1.41.59.51 0 1.02-.2 1.41-.59l7.78-7.78 2.81-2.81c.8-.78.8-2.07 0-2.86zM5.41 20L4 18.59l7.72-7.72 1.47 1.35L5.41 20z\"/>\n",
              "  </svg>\n",
              "      </button>\n",
              "      \n",
              "  <style>\n",
              "    .colab-df-container {\n",
              "      display:flex;\n",
              "      flex-wrap:wrap;\n",
              "      gap: 12px;\n",
              "    }\n",
              "\n",
              "    .colab-df-convert {\n",
              "      background-color: #E8F0FE;\n",
              "      border: none;\n",
              "      border-radius: 50%;\n",
              "      cursor: pointer;\n",
              "      display: none;\n",
              "      fill: #1967D2;\n",
              "      height: 32px;\n",
              "      padding: 0 0 0 0;\n",
              "      width: 32px;\n",
              "    }\n",
              "\n",
              "    .colab-df-convert:hover {\n",
              "      background-color: #E2EBFA;\n",
              "      box-shadow: 0px 1px 2px rgba(60, 64, 67, 0.3), 0px 1px 3px 1px rgba(60, 64, 67, 0.15);\n",
              "      fill: #174EA6;\n",
              "    }\n",
              "\n",
              "    [theme=dark] .colab-df-convert {\n",
              "      background-color: #3B4455;\n",
              "      fill: #D2E3FC;\n",
              "    }\n",
              "\n",
              "    [theme=dark] .colab-df-convert:hover {\n",
              "      background-color: #434B5C;\n",
              "      box-shadow: 0px 1px 3px 1px rgba(0, 0, 0, 0.15);\n",
              "      filter: drop-shadow(0px 1px 2px rgba(0, 0, 0, 0.3));\n",
              "      fill: #FFFFFF;\n",
              "    }\n",
              "  </style>\n",
              "\n",
              "      <script>\n",
              "        const buttonEl =\n",
              "          document.querySelector('#df-f4e19f17-a682-4813-b23e-872712490d23 button.colab-df-convert');\n",
              "        buttonEl.style.display =\n",
              "          google.colab.kernel.accessAllowed ? 'block' : 'none';\n",
              "\n",
              "        async function convertToInteractive(key) {\n",
              "          const element = document.querySelector('#df-f4e19f17-a682-4813-b23e-872712490d23');\n",
              "          const dataTable =\n",
              "            await google.colab.kernel.invokeFunction('convertToInteractive',\n",
              "                                                     [key], {});\n",
              "          if (!dataTable) return;\n",
              "\n",
              "          const docLinkHtml = 'Like what you see? Visit the ' +\n",
              "            '<a target=\"_blank\" href=https://colab.research.google.com/notebooks/data_table.ipynb>data table notebook</a>'\n",
              "            + ' to learn more about interactive tables.';\n",
              "          element.innerHTML = '';\n",
              "          dataTable['output_type'] = 'display_data';\n",
              "          await google.colab.output.renderOutput(dataTable, element);\n",
              "          const docLink = document.createElement('div');\n",
              "          docLink.innerHTML = docLinkHtml;\n",
              "          element.appendChild(docLink);\n",
              "        }\n",
              "      </script>\n",
              "    </div>\n",
              "  </div>\n",
              "  "
            ]
          },
          "metadata": {},
          "execution_count": 23
        }
      ]
    },
    {
      "cell_type": "code",
      "source": [
        "import matplotlib.dates as mdates\n",
        "\n",
        "fig = plt.figure()\n",
        "ax = plt.subplot(111)\n",
        "\n",
        "count = 0\n",
        "for val in dfs:\n",
        "  df = dfs[val]\n",
        "  ax.plot(df['timestamp'], df['signal'], label = val)\n",
        "  count += 1\n",
        "\n",
        "plt.title('Devices with \"Strong\" and \"Okay\" Average Signal Strength (Control Scenario)')\n",
        "plt.ylabel(\"Signal Stength (dBm)\")\n",
        "plt.xlabel(\"Time\")\n",
        "ax.xaxis.set_major_formatter(mdates.DateFormatter('%H:%M'))\n",
        "\n",
        "# Put a legend below current axis\n",
        "ax.legend(loc='lower center', bbox_to_anchor=(0.5, -0.35),\n",
        "          fancybox=True, shadow=True, ncol=5)"
      ],
      "metadata": {
        "colab": {
          "base_uri": "https://localhost:8080/",
          "height": 353
        },
        "id": "J_oH8CCChdOk",
        "outputId": "1f6b71be-b2ee-49d7-cdfe-ee6f2f185346"
      },
      "execution_count": 25,
      "outputs": [
        {
          "output_type": "execute_result",
          "data": {
            "text/plain": [
              "<matplotlib.legend.Legend at 0x7f5489516fd0>"
            ]
          },
          "metadata": {},
          "execution_count": 25
        },
        {
          "output_type": "display_data",
          "data": {
            "text/plain": [
              "<Figure size 432x288 with 1 Axes>"
            ],
            "image/png": "[encoded data removed]"
          },
          "metadata": {
            "needs_background": "light"
          }
        }
      ]
    }
  ]
}